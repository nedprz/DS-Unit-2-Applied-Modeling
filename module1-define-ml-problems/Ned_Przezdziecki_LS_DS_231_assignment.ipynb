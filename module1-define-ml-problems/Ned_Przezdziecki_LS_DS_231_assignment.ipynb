{
  "nbformat": 4,
  "nbformat_minor": 0,
  "metadata": {
    "kernelspec": {
      "display_name": "Python 3",
      "language": "python",
      "name": "python3"
    },
    "language_info": {
      "codemirror_mode": {
        "name": "ipython",
        "version": 3
      },
      "file_extension": ".py",
      "mimetype": "text/x-python",
      "name": "python",
      "nbconvert_exporter": "python",
      "pygments_lexer": "ipython3",
      "version": "3.7.6"
    },
    "colab": {
      "name": "Ned Przezdziecki LS_DS_231_assignment.ipynb",
      "provenance": [],
      "collapsed_sections": [],
      "include_colab_link": true
    }
  },
  "cells": [
    {
      "cell_type": "markdown",
      "metadata": {
        "id": "view-in-github",
        "colab_type": "text"
      },
      "source": [
        "<a href=\"https://colab.research.google.com/github/nedprz/DS-Unit-2-Applied-Modeling/blob/master/module1-define-ml-problems/Ned_Przezdziecki_LS_DS_231_assignment.ipynb\" target=\"_parent\"><img src=\"https://colab.research.google.com/assets/colab-badge.svg\" alt=\"Open In Colab\"/></a>"
      ]
    },
    {
      "cell_type": "markdown",
      "metadata": {
        "id": "MPEY1t3phg2y",
        "colab_type": "text"
      },
      "source": [
        ""
      ]
    },
    {
      "cell_type": "markdown",
      "metadata": {
        "colab_type": "text",
        "id": "nCc3XZEyG3XV"
      },
      "source": [
        "Lambda School Data Science\n",
        "\n",
        "*Unit 2, Sprint 3, Module 1*\n",
        "\n",
        "---\n",
        "\n",
        "\n",
        "# Define ML problems\n",
        "\n",
        "You will use your portfolio project dataset for all assignments this sprint.\n",
        "\n",
        "## Assignment\n",
        "\n",
        "Complete these tasks for your project, and document your decisions.\n",
        "\n",
        "- [ ] Choose your target. Which column in your tabular dataset will you predict?\n",
        "- [ ] Is your problem regression or classification?\n",
        "- [ ] How is your target distributed?\n",
        "    - Classification: How many classes? Are the classes imbalanced?\n",
        "    - Regression: Is the target right-skewed? If so, you may want to log transform the target.\n",
        "- [ ] Choose your evaluation metric(s).\n",
        "    - Classification: Is your majority class frequency >= 50% and < 70% ? If so, you can just use accuracy if you want. Outside that range, accuracy could be misleading. What evaluation metric will you choose, in addition to or instead of accuracy?\n",
        "    - Regression: Will you use mean absolute error, root mean squared error, R^2, or other regression metrics?\n",
        "- [ ] Choose which observations you will use to train, validate, and test your model.\n",
        "    - Are some observations outliers? Will you exclude them?\n",
        "    - Will you do a random split or a time-based split?\n",
        "- [ ] Begin to clean and explore your data.\n",
        "- [ ] Begin to choose which features, if any, to exclude. Would some features \"leak\" future information?\n",
        "\n",
        "If you haven't found a dataset yet, do that today. [Review requirements for your portfolio project](https://lambdaschool.github.io/ds/unit2) and choose your dataset.\n",
        "\n",
        "Some students worry, ***what if my model isn't “good”?*** Then, [produce a detailed tribute to your wrongness. That is science!](https://twitter.com/nathanwpyle/status/1176860147223867393)"
      ]
    },
    {
      "cell_type": "code",
      "metadata": {
        "id": "YLQG5OjStzvT",
        "colab_type": "code",
        "outputId": "3023a202-57f8-4158-e0b6-d196cdc5e646",
        "colab": {
          "base_uri": "https://localhost:8080/",
          "height": 129
        }
      },
      "source": [
        "from google.colab import drive\n",
        "drive.mount('/content/drive')"
      ],
      "execution_count": 2,
      "outputs": [
        {
          "output_type": "stream",
          "text": [
            "Go to this URL in a browser: https://accounts.google.com/o/oauth2/auth?client_id=947318989803-6bn6qk8qdgf4n4g3pfee6491hc0brc4i.apps.googleusercontent.com&redirect_uri=urn%3aietf%3awg%3aoauth%3a2.0%3aoob&response_type=code&scope=email%20https%3a%2f%2fwww.googleapis.com%2fauth%2fdocs.test%20https%3a%2f%2fwww.googleapis.com%2fauth%2fdrive%20https%3a%2f%2fwww.googleapis.com%2fauth%2fdrive.photos.readonly%20https%3a%2f%2fwww.googleapis.com%2fauth%2fpeopleapi.readonly\n",
            "\n",
            "Enter your authorization code:\n",
            "··········\n",
            "Mounted at /content/drive\n"
          ],
          "name": "stdout"
        }
      ]
    },
    {
      "cell_type": "code",
      "metadata": {
        "id": "e_vQvVtNxk1B",
        "colab_type": "code",
        "colab": {}
      },
      "source": [
        "import pandas as pd\n",
        "import matplotlib.pyplot as plt\n",
        "pd.options.display.max_columns = None\n",
        "feb = pd.read_csv('drive/My Drive/2020_02.csv')"
      ],
      "execution_count": 0,
      "outputs": []
    },
    {
      "cell_type": "code",
      "metadata": {
        "id": "gaWkva04xzsx",
        "colab_type": "code",
        "colab": {}
      },
      "source": [
        "march = pd.read_csv('drive/My Drive/2020_03.csv')"
      ],
      "execution_count": 0,
      "outputs": []
    },
    {
      "cell_type": "code",
      "metadata": {
        "id": "3RNKy2QvyAyC",
        "colab_type": "code",
        "outputId": "d28e790b-cd12-4bef-895e-350f83762c85",
        "colab": {
          "base_uri": "https://localhost:8080/",
          "height": 615
        }
      },
      "source": [
        "march"
      ],
      "execution_count": 5,
      "outputs": [
        {
          "output_type": "execute_result",
          "data": {
            "text/html": [
              "<div>\n",
              "<style scoped>\n",
              "    .dataframe tbody tr th:only-of-type {\n",
              "        vertical-align: middle;\n",
              "    }\n",
              "\n",
              "    .dataframe tbody tr th {\n",
              "        vertical-align: top;\n",
              "    }\n",
              "\n",
              "    .dataframe thead th {\n",
              "        text-align: right;\n",
              "    }\n",
              "</style>\n",
              "<table border=\"1\" class=\"dataframe\">\n",
              "  <thead>\n",
              "    <tr style=\"text-align: right;\">\n",
              "      <th></th>\n",
              "      <th>tripduration</th>\n",
              "      <th>starttime</th>\n",
              "      <th>stoptime</th>\n",
              "      <th>start station id</th>\n",
              "      <th>start station name</th>\n",
              "      <th>start station latitude</th>\n",
              "      <th>start station longitude</th>\n",
              "      <th>end station id</th>\n",
              "      <th>end station name</th>\n",
              "      <th>end station latitude</th>\n",
              "      <th>end station longitude</th>\n",
              "      <th>bikeid</th>\n",
              "      <th>usertype</th>\n",
              "      <th>birth year</th>\n",
              "      <th>gender</th>\n",
              "    </tr>\n",
              "  </thead>\n",
              "  <tbody>\n",
              "    <tr>\n",
              "      <th>0</th>\n",
              "      <td>389</td>\n",
              "      <td>2020-03-01 00:14:07.0000</td>\n",
              "      <td>2020-03-01 00:20:36.0880</td>\n",
              "      <td>3202</td>\n",
              "      <td>Newport PATH</td>\n",
              "      <td>40.727224</td>\n",
              "      <td>-74.033759</td>\n",
              "      <td>3203</td>\n",
              "      <td>Hamilton Park</td>\n",
              "      <td>40.727596</td>\n",
              "      <td>-74.044247</td>\n",
              "      <td>42381</td>\n",
              "      <td>Subscriber</td>\n",
              "      <td>1992</td>\n",
              "      <td>1</td>\n",
              "    </tr>\n",
              "    <tr>\n",
              "      <th>1</th>\n",
              "      <td>242</td>\n",
              "      <td>2020-03-01 00:48:06.4390</td>\n",
              "      <td>2020-03-01 00:52:08.9870</td>\n",
              "      <td>3185</td>\n",
              "      <td>City Hall</td>\n",
              "      <td>40.717733</td>\n",
              "      <td>-74.043845</td>\n",
              "      <td>3205</td>\n",
              "      <td>JC Medical Center</td>\n",
              "      <td>40.716540</td>\n",
              "      <td>-74.049638</td>\n",
              "      <td>42155</td>\n",
              "      <td>Subscriber</td>\n",
              "      <td>1991</td>\n",
              "      <td>1</td>\n",
              "    </tr>\n",
              "    <tr>\n",
              "      <th>2</th>\n",
              "      <td>124</td>\n",
              "      <td>2020-03-01 01:08:46.4880</td>\n",
              "      <td>2020-03-01 01:10:51.2780</td>\n",
              "      <td>3272</td>\n",
              "      <td>Jersey &amp; 3rd</td>\n",
              "      <td>40.723332</td>\n",
              "      <td>-74.045953</td>\n",
              "      <td>3278</td>\n",
              "      <td>Monmouth and 6th</td>\n",
              "      <td>40.725685</td>\n",
              "      <td>-74.048790</td>\n",
              "      <td>42376</td>\n",
              "      <td>Subscriber</td>\n",
              "      <td>1987</td>\n",
              "      <td>0</td>\n",
              "    </tr>\n",
              "    <tr>\n",
              "      <th>3</th>\n",
              "      <td>104</td>\n",
              "      <td>2020-03-01 01:22:35.4790</td>\n",
              "      <td>2020-03-01 01:24:20.2470</td>\n",
              "      <td>3202</td>\n",
              "      <td>Newport PATH</td>\n",
              "      <td>40.727224</td>\n",
              "      <td>-74.033759</td>\n",
              "      <td>3638</td>\n",
              "      <td>Washington St</td>\n",
              "      <td>40.724294</td>\n",
              "      <td>-74.035483</td>\n",
              "      <td>42350</td>\n",
              "      <td>Subscriber</td>\n",
              "      <td>1993</td>\n",
              "      <td>1</td>\n",
              "    </tr>\n",
              "    <tr>\n",
              "      <th>4</th>\n",
              "      <td>228</td>\n",
              "      <td>2020-03-01 01:39:20.2680</td>\n",
              "      <td>2020-03-01 01:43:09.1380</td>\n",
              "      <td>3194</td>\n",
              "      <td>McGinley Square</td>\n",
              "      <td>40.725340</td>\n",
              "      <td>-74.067622</td>\n",
              "      <td>3280</td>\n",
              "      <td>Astor Place</td>\n",
              "      <td>40.719282</td>\n",
              "      <td>-74.071262</td>\n",
              "      <td>42235</td>\n",
              "      <td>Subscriber</td>\n",
              "      <td>1988</td>\n",
              "      <td>1</td>\n",
              "    </tr>\n",
              "    <tr>\n",
              "      <th>...</th>\n",
              "      <td>...</td>\n",
              "      <td>...</td>\n",
              "      <td>...</td>\n",
              "      <td>...</td>\n",
              "      <td>...</td>\n",
              "      <td>...</td>\n",
              "      <td>...</td>\n",
              "      <td>...</td>\n",
              "      <td>...</td>\n",
              "      <td>...</td>\n",
              "      <td>...</td>\n",
              "      <td>...</td>\n",
              "      <td>...</td>\n",
              "      <td>...</td>\n",
              "      <td>...</td>\n",
              "    </tr>\n",
              "    <tr>\n",
              "      <th>17714</th>\n",
              "      <td>296</td>\n",
              "      <td>2020-03-31 22:50:39.0410</td>\n",
              "      <td>2020-03-31 22:55:35.5980</td>\n",
              "      <td>3191</td>\n",
              "      <td>Union St</td>\n",
              "      <td>40.718211</td>\n",
              "      <td>-74.083639</td>\n",
              "      <td>3694</td>\n",
              "      <td>Jackson Square</td>\n",
              "      <td>40.711130</td>\n",
              "      <td>-74.078900</td>\n",
              "      <td>42145</td>\n",
              "      <td>Subscriber</td>\n",
              "      <td>1994</td>\n",
              "      <td>1</td>\n",
              "    </tr>\n",
              "    <tr>\n",
              "      <th>17715</th>\n",
              "      <td>147</td>\n",
              "      <td>2020-03-31 23:09:15.9690</td>\n",
              "      <td>2020-03-31 23:11:43.5310</td>\n",
              "      <td>3640</td>\n",
              "      <td>Journal Square</td>\n",
              "      <td>40.733670</td>\n",
              "      <td>-74.062500</td>\n",
              "      <td>3206</td>\n",
              "      <td>Hilltop</td>\n",
              "      <td>40.731169</td>\n",
              "      <td>-74.057574</td>\n",
              "      <td>42110</td>\n",
              "      <td>Subscriber</td>\n",
              "      <td>1991</td>\n",
              "      <td>1</td>\n",
              "    </tr>\n",
              "    <tr>\n",
              "      <th>17716</th>\n",
              "      <td>364</td>\n",
              "      <td>2020-03-31 23:17:02.0240</td>\n",
              "      <td>2020-03-31 23:23:06.8200</td>\n",
              "      <td>3195</td>\n",
              "      <td>Sip Ave</td>\n",
              "      <td>40.730897</td>\n",
              "      <td>-74.063913</td>\n",
              "      <td>3679</td>\n",
              "      <td>Bergen Ave</td>\n",
              "      <td>40.722104</td>\n",
              "      <td>-74.071455</td>\n",
              "      <td>42550</td>\n",
              "      <td>Subscriber</td>\n",
              "      <td>1986</td>\n",
              "      <td>1</td>\n",
              "    </tr>\n",
              "    <tr>\n",
              "      <th>17717</th>\n",
              "      <td>1217</td>\n",
              "      <td>2020-03-31 23:36:10.6430</td>\n",
              "      <td>2020-03-31 23:56:27.8120</td>\n",
              "      <td>3267</td>\n",
              "      <td>Morris Canal</td>\n",
              "      <td>40.712419</td>\n",
              "      <td>-74.038526</td>\n",
              "      <td>3276</td>\n",
              "      <td>Marin Light Rail</td>\n",
              "      <td>40.714584</td>\n",
              "      <td>-74.042817</td>\n",
              "      <td>42115</td>\n",
              "      <td>Subscriber</td>\n",
              "      <td>1986</td>\n",
              "      <td>1</td>\n",
              "    </tr>\n",
              "    <tr>\n",
              "      <th>17718</th>\n",
              "      <td>846</td>\n",
              "      <td>2020-03-31 23:37:21.1840</td>\n",
              "      <td>2020-03-31 23:51:28.1220</td>\n",
              "      <td>3195</td>\n",
              "      <td>Sip Ave</td>\n",
              "      <td>40.730897</td>\n",
              "      <td>-74.063913</td>\n",
              "      <td>3193</td>\n",
              "      <td>Lincoln Park</td>\n",
              "      <td>40.724605</td>\n",
              "      <td>-74.078406</td>\n",
              "      <td>42362</td>\n",
              "      <td>Subscriber</td>\n",
              "      <td>1965</td>\n",
              "      <td>1</td>\n",
              "    </tr>\n",
              "  </tbody>\n",
              "</table>\n",
              "<p>17719 rows × 15 columns</p>\n",
              "</div>"
            ],
            "text/plain": [
              "       tripduration                 starttime                  stoptime  \\\n",
              "0               389  2020-03-01 00:14:07.0000  2020-03-01 00:20:36.0880   \n",
              "1               242  2020-03-01 00:48:06.4390  2020-03-01 00:52:08.9870   \n",
              "2               124  2020-03-01 01:08:46.4880  2020-03-01 01:10:51.2780   \n",
              "3               104  2020-03-01 01:22:35.4790  2020-03-01 01:24:20.2470   \n",
              "4               228  2020-03-01 01:39:20.2680  2020-03-01 01:43:09.1380   \n",
              "...             ...                       ...                       ...   \n",
              "17714           296  2020-03-31 22:50:39.0410  2020-03-31 22:55:35.5980   \n",
              "17715           147  2020-03-31 23:09:15.9690  2020-03-31 23:11:43.5310   \n",
              "17716           364  2020-03-31 23:17:02.0240  2020-03-31 23:23:06.8200   \n",
              "17717          1217  2020-03-31 23:36:10.6430  2020-03-31 23:56:27.8120   \n",
              "17718           846  2020-03-31 23:37:21.1840  2020-03-31 23:51:28.1220   \n",
              "\n",
              "       start station id start station name  start station latitude  \\\n",
              "0                  3202       Newport PATH               40.727224   \n",
              "1                  3185          City Hall               40.717733   \n",
              "2                  3272       Jersey & 3rd               40.723332   \n",
              "3                  3202       Newport PATH               40.727224   \n",
              "4                  3194    McGinley Square               40.725340   \n",
              "...                 ...                ...                     ...   \n",
              "17714              3191           Union St               40.718211   \n",
              "17715              3640     Journal Square               40.733670   \n",
              "17716              3195            Sip Ave               40.730897   \n",
              "17717              3267       Morris Canal               40.712419   \n",
              "17718              3195            Sip Ave               40.730897   \n",
              "\n",
              "       start station longitude  end station id   end station name  \\\n",
              "0                   -74.033759            3203      Hamilton Park   \n",
              "1                   -74.043845            3205  JC Medical Center   \n",
              "2                   -74.045953            3278   Monmouth and 6th   \n",
              "3                   -74.033759            3638      Washington St   \n",
              "4                   -74.067622            3280        Astor Place   \n",
              "...                        ...             ...                ...   \n",
              "17714               -74.083639            3694     Jackson Square   \n",
              "17715               -74.062500            3206            Hilltop   \n",
              "17716               -74.063913            3679         Bergen Ave   \n",
              "17717               -74.038526            3276   Marin Light Rail   \n",
              "17718               -74.063913            3193       Lincoln Park   \n",
              "\n",
              "       end station latitude  end station longitude  bikeid    usertype  \\\n",
              "0                 40.727596             -74.044247   42381  Subscriber   \n",
              "1                 40.716540             -74.049638   42155  Subscriber   \n",
              "2                 40.725685             -74.048790   42376  Subscriber   \n",
              "3                 40.724294             -74.035483   42350  Subscriber   \n",
              "4                 40.719282             -74.071262   42235  Subscriber   \n",
              "...                     ...                    ...     ...         ...   \n",
              "17714             40.711130             -74.078900   42145  Subscriber   \n",
              "17715             40.731169             -74.057574   42110  Subscriber   \n",
              "17716             40.722104             -74.071455   42550  Subscriber   \n",
              "17717             40.714584             -74.042817   42115  Subscriber   \n",
              "17718             40.724605             -74.078406   42362  Subscriber   \n",
              "\n",
              "       birth year  gender  \n",
              "0            1992       1  \n",
              "1            1991       1  \n",
              "2            1987       0  \n",
              "3            1993       1  \n",
              "4            1988       1  \n",
              "...           ...     ...  \n",
              "17714        1994       1  \n",
              "17715        1991       1  \n",
              "17716        1986       1  \n",
              "17717        1986       1  \n",
              "17718        1965       1  \n",
              "\n",
              "[17719 rows x 15 columns]"
            ]
          },
          "metadata": {
            "tags": []
          },
          "execution_count": 5
        }
      ]
    },
    {
      "cell_type": "code",
      "metadata": {
        "id": "564rNlSsyQpo",
        "colab_type": "code",
        "colab": {}
      },
      "source": [
        "target = 'tripduration' #regression"
      ],
      "execution_count": 0,
      "outputs": []
    },
    {
      "cell_type": "code",
      "metadata": {
        "id": "KBhDhuoKyi2S",
        "colab_type": "code",
        "outputId": "98dc7c72-3ee2-4c97-c80b-1be9d62e55e1",
        "colab": {
          "base_uri": "https://localhost:8080/",
          "height": 278
        }
      },
      "source": [
        "march['tripduration'].value_counts().sort_index().plot();"
      ],
      "execution_count": 7,
      "outputs": [
        {
          "output_type": "display_data",
          "data": {
            "image/png": "[encoded data removed]",
            "text/plain": [
              "<Figure size 432x288 with 1 Axes>"
            ]
          },
          "metadata": {
            "tags": [],
            "needs_background": "light"
          }
        }
      ]
    },
    {
      "cell_type": "code",
      "metadata": {
        "id": "PvOxbh7R8tkU",
        "colab_type": "code",
        "colab": {}
      },
      "source": [
        "march['tripduration2']=march['tripduration'][march['tripduration']<1500]"
      ],
      "execution_count": 0,
      "outputs": []
    },
    {
      "cell_type": "code",
      "metadata": {
        "id": "kMujRCWlgdCG",
        "colab_type": "code",
        "colab": {
          "base_uri": "https://localhost:8080/",
          "height": 283
        },
        "outputId": "f9fc6c7d-6baf-4b85-e6aa-00a6472dfab3"
      },
      "source": [
        "march['tripduration2'].hist(); # our plot is skewed to the right because there are some very lengthy outlier rides"
      ],
      "execution_count": 26,
      "outputs": [
        {
          "output_type": "execute_result",
          "data": {
            "text/plain": [
              "<matplotlib.axes._subplots.AxesSubplot at 0x7fd44594df60>"
            ]
          },
          "metadata": {
            "tags": []
          },
          "execution_count": 26
        },
        {
          "output_type": "display_data",
          "data": {
            "image/png": "[encoded data removed]",
            "text/plain": [
              "<Figure size 432x288 with 1 Axes>"
            ]
          },
          "metadata": {
            "tags": [],
            "needs_background": "light"
          }
        }
      ]
    },
    {
      "cell_type": "code",
      "metadata": {
        "id": "lCROLrd0hBP5",
        "colab_type": "code",
        "colab": {
          "base_uri": "https://localhost:8080/",
          "height": 35
        },
        "outputId": "ee87c8b4-69d7-4191-f43a-a7cd7af92875"
      },
      "source": [
        "march['tripduration2'].mean() "
      ],
      "execution_count": 27,
      "outputs": [
        {
          "output_type": "execute_result",
          "data": {
            "text/plain": [
              "464.68791924454575"
            ]
          },
          "metadata": {
            "tags": []
          },
          "execution_count": 27
        }
      ]
    },
    {
      "cell_type": "markdown",
      "metadata": {
        "id": "4DBDdzX7hjU1",
        "colab_type": "text"
      },
      "source": [
        "Regression: Will you use mean absolute error, root mean squared error, R^2, or other regression metrics?"
      ]
    },
    {
      "cell_type": "code",
      "metadata": {
        "id": "wA5Eve4WhkxS",
        "colab_type": "code",
        "colab": {}
      },
      "source": [
        "# we will use mean absolute error to calculate the error of our model"
      ],
      "execution_count": 0,
      "outputs": []
    },
    {
      "cell_type": "code",
      "metadata": {
        "id": "juZBNQv6hzkd",
        "colab_type": "code",
        "colab": {}
      },
      "source": [
        ""
      ],
      "execution_count": 0,
      "outputs": []
    },
    {
      "cell_type": "markdown",
      "metadata": {
        "id": "axj7s1H5h0Iv",
        "colab_type": "text"
      },
      "source": [
        "Choose which observations you will use to train, validate, and test your model.\n",
        "\n",
        "    Are some observations outliers? Will you exclude them?\n",
        "    Will you do a random split or a time-based split?\n",
        "\n"
      ]
    },
    {
      "cell_type": "code",
      "metadata": {
        "id": "mpGAQbfpiaSP",
        "colab_type": "code",
        "colab": {}
      },
      "source": [
        "# I don't think any observations are outliers, and all the observations seem useful. However, theres is some repitition among them. For instance, the station ID will always pair with a particular\n",
        "# station name, station latitude, and station longitude. so in essence these columns are telling us the same information. Therefore we will need to exclude some so they dont get over accounted into our model."
      ],
      "execution_count": 0,
      "outputs": []
    },
    {
      "cell_type": "code",
      "metadata": {
        "id": "ZHTz62Wah6hI",
        "colab_type": "code",
        "colab": {}
      },
      "source": [
        "# we will use a random split for our model. A time based split could introduce problems because people would be taking short bike rides during the winter, presumably."
      ],
      "execution_count": 0,
      "outputs": []
    },
    {
      "cell_type": "code",
      "metadata": {
        "id": "RaBEJhHAmHCx",
        "colab_type": "code",
        "colab": {}
      },
      "source": [
        "#another thing we could try is guessing whether the user is male or female based on their trip, their speeds."
      ],
      "execution_count": 0,
      "outputs": []
    }
  ]
}